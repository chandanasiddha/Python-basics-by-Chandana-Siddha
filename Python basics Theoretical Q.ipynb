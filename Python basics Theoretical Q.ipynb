{
 "cells": [
  {
   "cell_type": "markdown",
   "id": "adca6acc",
   "metadata": {},
   "source": [
    "### Theoretical Questions"
   ]
  },
  {
   "cell_type": "markdown",
   "id": "273e8098",
   "metadata": {},
   "source": [
    "### 1.What is Python, and why is it popular?"
   ]
  },
  {
   "cell_type": "raw",
   "id": "3fc51953",
   "metadata": {},
   "source": [
    "Python is one of the most popular programming language in the world. Python has simple syntax, which means it is easy to understad. It is popular for simplicity and readability,numerous libraries and image processing."
   ]
  },
  {
   "cell_type": "markdown",
   "id": "9d0b5064",
   "metadata": {},
   "source": [
    "### 2.What is an interpreter in Python?"
   ]
  },
  {
   "cell_type": "raw",
   "id": "9e6b3a51",
   "metadata": {},
   "source": [
    "A Python interpreter is a program that executes the Python code. Interpreter helps in execution of code line by line, rather than the execution of entire code. It is more flexable and easy to debugg, as errors can be caught and corrected in the code."
   ]
  },
  {
   "cell_type": "markdown",
   "id": "21de89d1",
   "metadata": {},
   "source": [
    "### 3.What are pre-defined keywords in Python?"
   ]
  },
  {
   "cell_type": "raw",
   "id": "16879216",
   "metadata": {},
   "source": [
    "The reseved words in pthon that holds a special meaning and have specific purpose are called as pre-defined keywords.They are used to define the flow of control in code, create functions and classes, manage variable scope and etc. \n",
    "we can view these keywords by using a code: help(\"keywords\") and then run it to get pre-defined keywords."
   ]
  },
  {
   "cell_type": "code",
   "execution_count": 5,
   "id": "91610819",
   "metadata": {},
   "outputs": [
    {
     "name": "stdout",
     "output_type": "stream",
     "text": [
      "\n",
      "Here is a list of the Python keywords.  Enter any keyword to get more help.\n",
      "\n",
      "False               class               from                or\n",
      "None                continue            global              pass\n",
      "True                def                 if                  raise\n",
      "and                 del                 import              return\n",
      "as                  elif                in                  try\n",
      "assert              else                is                  while\n",
      "async               except              lambda              with\n",
      "await               finally             nonlocal            yield\n",
      "break               for                 not                 \n",
      "\n"
     ]
    }
   ],
   "source": [
    "help(\"keywords\")"
   ]
  },
  {
   "cell_type": "markdown",
   "id": "5d1d6435",
   "metadata": {},
   "source": [
    "### 4.Can keywords be used as variable names?"
   ]
  },
  {
   "cell_type": "raw",
   "id": "5217e1cb",
   "metadata": {},
   "source": [
    "Variable is the name given to a memory location in a python. Keywords are pre-defined so we cannot use them as variable names and for funtions."
   ]
  },
  {
   "cell_type": "markdown",
   "id": "5cb193bd",
   "metadata": {},
   "source": [
    "### 5.What is mutability in Python?"
   ]
  },
  {
   "cell_type": "raw",
   "id": "3514f349",
   "metadata": {},
   "source": [
    "Mutability means the object state or value can be changed after creation.\n",
    "Lists,sets and dictionaries are mutable."
   ]
  },
  {
   "cell_type": "markdown",
   "id": "48f5a2ae",
   "metadata": {},
   "source": [
    "### 6.Why are lists mutable, but tuples are immutable?"
   ]
  },
  {
   "cell_type": "raw",
   "id": "85723475",
   "metadata": {},
   "source": [
    "Lists are mutable as they can be changed after creation but tuples cannot.\n",
    "It can be shown in code format: "
   ]
  },
  {
   "cell_type": "code",
   "execution_count": 9,
   "id": "8ad3be28",
   "metadata": {},
   "outputs": [
    {
     "name": "stdout",
     "output_type": "stream",
     "text": [
      "['apple', 'banana', 'mango', 'tamato', 'grapes']\n",
      "<class 'list'>\n",
      "tamato\n",
      "['apple', 'banana', 'mango', 'papaya', 'grapes']\n"
     ]
    }
   ],
   "source": [
    "#lists are mutable\n",
    "c = ['apple','banana','mango','tamato','grapes']\n",
    "print(c)\n",
    "print(type(c))\n",
    "print(c[3])\n",
    "c[3] = \"papaya\"\n",
    "print(c)"
   ]
  },
  {
   "cell_type": "code",
   "execution_count": 7,
   "id": "d1288fce",
   "metadata": {},
   "outputs": [
    {
     "name": "stdout",
     "output_type": "stream",
     "text": [
      "(10, 20, 'Hello', 30, 40)\n",
      "<class 'tuple'>\n",
      "5\n"
     ]
    },
    {
     "ename": "TypeError",
     "evalue": "'tuple' object does not support item assignment",
     "output_type": "error",
     "traceback": [
      "\u001b[1;31m---------------------------------------------------------------------------\u001b[0m",
      "\u001b[1;31mTypeError\u001b[0m                                 Traceback (most recent call last)",
      "Cell \u001b[1;32mIn[7], line 6\u001b[0m\n\u001b[0;32m      4\u001b[0m \u001b[38;5;28mprint\u001b[39m(\u001b[38;5;28mtype\u001b[39m(a))\n\u001b[0;32m      5\u001b[0m \u001b[38;5;28mprint\u001b[39m(\u001b[38;5;28mlen\u001b[39m(a))\n\u001b[1;32m----> 6\u001b[0m a[\u001b[38;5;241m1\u001b[39m] \u001b[38;5;241m=\u001b[39m \u001b[38;5;241m22\u001b[39m\n\u001b[0;32m      7\u001b[0m \u001b[38;5;28mprint\u001b[39m(a)\n",
      "\u001b[1;31mTypeError\u001b[0m: 'tuple' object does not support item assignment"
     ]
    }
   ],
   "source": [
    "#tuples are immutables\n",
    "a = (10,20,'Hello',30,40)\n",
    "print(a)\n",
    "print(type(a))\n",
    "print(len(a))\n",
    "a[1] = 22\n",
    "print(a)"
   ]
  },
  {
   "cell_type": "markdown",
   "id": "0973a721",
   "metadata": {},
   "source": [
    "### 7.What is the difference between “==” and “is” operators in Python?"
   ]
  },
  {
   "cell_type": "raw",
   "id": "5dad0ffa",
   "metadata": {},
   "source": [
    "The \"==\" operator in Python is used for comparing values of same objects. If the values of two objects are equal it returns True, if not False.\n",
    "\"is\" operator returns True if both variables point to the same object in memory."
   ]
  },
  {
   "cell_type": "code",
   "execution_count": 1,
   "id": "43cd792a",
   "metadata": {},
   "outputs": [
    {
     "name": "stdout",
     "output_type": "stream",
     "text": [
      "True\n",
      "False\n",
      "True\n",
      "False\n"
     ]
    }
   ],
   "source": [
    "a=5\n",
    "b=5\n",
    "c=6\n",
    "print(a==b)\n",
    "print(b==c)\n",
    "print(a is b)\n",
    "print(a is c)"
   ]
  },
  {
   "cell_type": "markdown",
   "id": "0869c1ff",
   "metadata": {},
   "source": [
    "### 8.What are logical operators in Python?"
   ]
  },
  {
   "cell_type": "raw",
   "id": "d08a5fa9",
   "metadata": {},
   "source": [
    "Logical operators used to combine conditional statements and allows to run multiple conditions.\n",
    "ac\n",
    "And, Or and Not are the logical operators."
   ]
  },
  {
   "cell_type": "code",
   "execution_count": 4,
   "id": "c5159024",
   "metadata": {},
   "outputs": [
    {
     "name": "stdout",
     "output_type": "stream",
     "text": [
      "False\n",
      "True\n",
      "False\n"
     ]
    }
   ],
   "source": [
    "print(1==1 and 2==3) # And>> means in a condition both should satisfy returns True.\n",
    "print(1==1 or 2==3) # Or>> if any one or both condition satisfies returns True.\n",
    "print(not True) # Not>> it takes just one argument and inverts it. Not(True) gives False and not(False) gives True."
   ]
  },
  {
   "cell_type": "markdown",
   "id": "bb34392e",
   "metadata": {},
   "source": [
    "### 9.What is type casting in Python?"
   ]
  },
  {
   "cell_type": "raw",
   "id": "00fd6eb8",
   "metadata": {},
   "source": [
    "Type casting also called as type conversion. It is the process of changing the data type of a value or object.\n",
    "Type casting is of two types: Implicit casting and Explicit casting."
   ]
  },
  {
   "cell_type": "markdown",
   "id": "b3c8de28",
   "metadata": {},
   "source": [
    "### 10.What is the difference between implicit and explicit type casting?"
   ]
  },
  {
   "cell_type": "raw",
   "id": "370a325c",
   "metadata": {},
   "source": [
    "Implicit converts the datatype into another datatype automatically. we use Type() to cast the type of the object.\n",
    "Explicit converts the datatype as per the requirement of the user using funtions like int() for interger, str() for string, float() for float."
   ]
  },
  {
   "cell_type": "markdown",
   "id": "f286a687",
   "metadata": {},
   "source": [
    "### 11.What is the purpose of conditional statements in Python?"
   ]
  },
  {
   "cell_type": "raw",
   "id": "a7a3084a",
   "metadata": {},
   "source": [
    "Conditional statements in Python allow you to control the flow of your program based on certain conditions. These statements enable your program to make decisions and execute specific blocks of code depending on whether a condition is true or false.\n",
    "Types of conditions are: if,if-else,if-elif-else and nested if-else."
   ]
  },
  {
   "cell_type": "markdown",
   "id": "6018e5c0",
   "metadata": {},
   "source": [
    "### 12.How does the elif statement work?"
   ]
  },
  {
   "cell_type": "raw",
   "id": "6911de49",
   "metadata": {},
   "source": [
    "When there are too many if/else statements makes code long and difficult to read. To slove this we use elif (short form of else-if) in statement.It's a shortcut to use when chaining together if and else statemnet, aking code shorter and easier."
   ]
  },
  {
   "cell_type": "code",
   "execution_count": 5,
   "id": "a8de384e",
   "metadata": {},
   "outputs": [
    {
     "name": "stdout",
     "output_type": "stream",
     "text": [
      "two\n"
     ]
    }
   ],
   "source": [
    "no=2\n",
    "if no==1:\n",
    "    print(\"one\")\n",
    "elif no==2:\n",
    "        print(\"two\")\n",
    "elif no==3:\n",
    "        print(\"three\")"
   ]
  },
  {
   "cell_type": "markdown",
   "id": "700930d7",
   "metadata": {},
   "source": [
    "### 13.What is the difference between for and while loops?"
   ]
  },
  {
   "cell_type": "raw",
   "id": "4985bd7a",
   "metadata": {},
   "source": [
    "'for loop' is used when the user wants a specific times to execute the block of code. The loop variable takes the value of each item in the sequence during each iteration and executes the code in sequence.\n",
    "'while loop' is used when user don’t have idea of how many times the block of code to be executed. It continues to execute as long as the specified condition is true."
   ]
  },
  {
   "cell_type": "markdown",
   "id": "47ed4286",
   "metadata": {},
   "source": [
    "### 14.Describe a scenario where a while loop is more suitable than a for loop?"
   ]
  },
  {
   "cell_type": "raw",
   "id": "b3232040",
   "metadata": {},
   "source": [
    "A while loop is more suitable than a for loop when:\n",
    "* when we dont know how many times the block of code need to be run.\n",
    "* We can change the loop's behavior dynamically based on the condition."
   ]
  }
 ],
 "metadata": {
  "kernelspec": {
   "display_name": "Python 3 (ipykernel)",
   "language": "python",
   "name": "python3"
  },
  "language_info": {
   "codemirror_mode": {
    "name": "ipython",
    "version": 3
   },
   "file_extension": ".py",
   "mimetype": "text/x-python",
   "name": "python",
   "nbconvert_exporter": "python",
   "pygments_lexer": "ipython3",
   "version": "3.11.4"
  },
  "widgets": {
   "application/vnd.jupyter.widget-state+json": {
    "state": {},
    "version_major": 2,
    "version_minor": 0
   }
  }
 },
 "nbformat": 4,
 "nbformat_minor": 5
}
