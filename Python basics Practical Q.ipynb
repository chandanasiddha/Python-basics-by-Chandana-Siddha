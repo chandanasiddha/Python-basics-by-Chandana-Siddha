{
 "cells": [
  {
   "cell_type": "markdown",
   "id": "97e5c338",
   "metadata": {},
   "source": [
    "### Practical Questions:"
   ]
  },
  {
   "cell_type": "markdown",
   "id": "998ea056",
   "metadata": {},
   "source": [
    "### 1.Write a Python program to print \"Hello, World!_\""
   ]
  },
  {
   "cell_type": "code",
   "execution_count": 8,
   "id": "979de268",
   "metadata": {},
   "outputs": [
    {
     "name": "stdout",
     "output_type": "stream",
     "text": [
      "Hello,World!_\n"
     ]
    }
   ],
   "source": [
    "a=\"Hello,World!_\"\n",
    "print(a)"
   ]
  },
  {
   "cell_type": "markdown",
   "id": "e8341d81",
   "metadata": {},
   "source": [
    "### 2.Write a Python program that displays your name and age?"
   ]
  },
  {
   "cell_type": "code",
   "execution_count": 2,
   "id": "54ca2b73",
   "metadata": {},
   "outputs": [
    {
     "name": "stdout",
     "output_type": "stream",
     "text": [
      "Enter your name:Chandana Siddha\n",
      "Enter your age:20\n",
      "My name is Chandana Siddha\n",
      "I am 20 years old\n"
     ]
    }
   ],
   "source": [
    "name = input(\"Enter your name:\")\n",
    "age = input(\"Enter your age:\")\n",
    "\n",
    "print(\"My name is\", name)\n",
    "print(\"I am\",age,\"years old\")"
   ]
  },
  {
   "cell_type": "markdown",
   "id": "4c47dc21",
   "metadata": {},
   "source": [
    "### 3.Write code to print all the pre-defined keywords in Python using the keyword library?"
   ]
  },
  {
   "cell_type": "code",
   "execution_count": 35,
   "id": "9a9fe02c",
   "metadata": {},
   "outputs": [
    {
     "name": "stdout",
     "output_type": "stream",
     "text": [
      "\n",
      "Here is a list of the Python keywords.  Enter any keyword to get more help.\n",
      "\n",
      "False               class               from                or\n",
      "None                continue            global              pass\n",
      "True                def                 if                  raise\n",
      "and                 del                 import              return\n",
      "as                  elif                in                  try\n",
      "assert              else                is                  while\n",
      "async               except              lambda              with\n",
      "await               finally             nonlocal            yield\n",
      "break               for                 not                 \n",
      "\n"
     ]
    }
   ],
   "source": [
    "help(\"keywords\")"
   ]
  },
  {
   "cell_type": "markdown",
   "id": "a4df6916",
   "metadata": {},
   "source": [
    "### 4.Write a program that checks if a given word is a Python keyword?"
   ]
  },
  {
   "cell_type": "code",
   "execution_count": 19,
   "id": "f496fb1b",
   "metadata": {},
   "outputs": [
    {
     "name": "stdout",
     "output_type": "stream",
     "text": [
      "Enter a word to check: chand\n",
      "'chand' is not a Python keyword.\n"
     ]
    }
   ],
   "source": [
    "import keyword\n",
    "\n",
    "def is_keyword(word):\n",
    "    return keyword.iskeyword(word)\n",
    "\n",
    "word = input(\"Enter a word to check: \")\n",
    "if is_keyword(word):\n",
    "    print(f\"'{word}' is a Python keyword.\")\n",
    "else:\n",
    "    print(f\"'{word}' is not a Python keyword.\")"
   ]
  },
  {
   "cell_type": "markdown",
   "id": "9b4ca259",
   "metadata": {},
   "source": [
    "### 5.Create a list and tuple in Python, and demonstrate how attempting to change an element works differently for each?"
   ]
  },
  {
   "cell_type": "code",
   "execution_count": 37,
   "id": "8ad3be28",
   "metadata": {},
   "outputs": [
    {
     "name": "stdout",
     "output_type": "stream",
     "text": [
      "['apple', 'banana', 'mango', 'tamato', 'grapes']\n",
      "<class 'list'>\n",
      "tamato\n",
      "['apple', 'banana', 'mango', 'papaya', 'grapes']\n"
     ]
    }
   ],
   "source": [
    "#lists are mutable>> we can change the list after creating them\n",
    "c = ['apple','banana','mango','tamato','grapes']\n",
    "print(c)\n",
    "print(type(c))\n",
    "print(c[3])\n",
    "c[3] = \"papaya\"\n",
    "print(c)"
   ]
  },
  {
   "cell_type": "code",
   "execution_count": 38,
   "id": "d1288fce",
   "metadata": {},
   "outputs": [
    {
     "name": "stdout",
     "output_type": "stream",
     "text": [
      "(10, 20, 'Hello', 30, 40)\n",
      "<class 'tuple'>\n",
      "5\n"
     ]
    },
    {
     "ename": "TypeError",
     "evalue": "'tuple' object does not support item assignment",
     "output_type": "error",
     "traceback": [
      "\u001b[1;31m---------------------------------------------------------------------------\u001b[0m",
      "\u001b[1;31mTypeError\u001b[0m                                 Traceback (most recent call last)",
      "Cell \u001b[1;32mIn[38], line 6\u001b[0m\n\u001b[0;32m      4\u001b[0m \u001b[38;5;28mprint\u001b[39m(\u001b[38;5;28mtype\u001b[39m(a))\n\u001b[0;32m      5\u001b[0m \u001b[38;5;28mprint\u001b[39m(\u001b[38;5;28mlen\u001b[39m(a))\n\u001b[1;32m----> 6\u001b[0m a[\u001b[38;5;241m1\u001b[39m] \u001b[38;5;241m=\u001b[39m \u001b[38;5;241m22\u001b[39m\n\u001b[0;32m      7\u001b[0m \u001b[38;5;28mprint\u001b[39m(a)\n",
      "\u001b[1;31mTypeError\u001b[0m: 'tuple' object does not support item assignment"
     ]
    }
   ],
   "source": [
    "#tuples are immutables>> we cannot change the tuple\n",
    "a = (10,20,'Hello',30,40)\n",
    "print(a)\n",
    "print(type(a))\n",
    "print(len(a))\n",
    "a[1] = 22\n",
    "print(a)"
   ]
  },
  {
   "cell_type": "markdown",
   "id": "3ea152fb",
   "metadata": {},
   "source": [
    "### 6.Write a function to demonstrate the behavior of mutable and immutable arguments?"
   ]
  },
  {
   "cell_type": "code",
   "execution_count": 4,
   "id": "2f02d6bd",
   "metadata": {},
   "outputs": [
    {
     "name": "stdout",
     "output_type": "stream",
     "text": [
      "Before function call:\n",
      "x (immutable): 5\n",
      "y (mutable): [1, 2, 3]\n",
      "Inside function:\n",
      "Initial a (immutable): 5\n",
      "Initial b (mutable): [1, 2, 3]\n",
      "Modified a (immutable): 15\n",
      "Modified b (mutable): [1, 2, 3, 4]\n",
      "\n",
      "After function call:\n",
      "x (immutable): 5\n",
      "y (mutable): [1, 2, 3, 4]\n"
     ]
    }
   ],
   "source": [
    "def demonstrate_mutable_and_immutable(a,b):\n",
    "    print(\"Inside function:\")\n",
    "    print(f\"Initial a (immutable): {a}\")\n",
    "    print(f\"Initial b (mutable): {b}\")\n",
    "    \n",
    "    # Attempt to modify the immutable argument\n",
    "    a += 10\n",
    "    print(f\"Modified a (immutable): {a}\")\n",
    "    \n",
    "    # Attempt to modify the mutable argument\n",
    "    b.append(4)\n",
    "    print(f\"Modified b (mutable): {b}\")\n",
    "\n",
    "\n",
    "# Immutable argument (int)\n",
    "x = 5\n",
    "# Mutable argument (list)\n",
    "y = [1, 2, 3]\n",
    "\n",
    "print(\"Before function call:\")\n",
    "print(f\"x (immutable): {x}\")\n",
    "print(f\"y (mutable): {y}\")\n",
    "\n",
    "# Call the function\n",
    "demonstrate_mutable_and_immutable(x, y)\n",
    "\n",
    "print(\"\\nAfter function call:\")\n",
    "print(f\"x (immutable): {x}\")  # Unchanged\n",
    "print(f\"y (mutable): {y}\")    # Changed"
   ]
  },
  {
   "cell_type": "markdown",
   "id": "264a6d40",
   "metadata": {},
   "source": [
    "### 7.Write a function to demonstrate the behavior of mutable and immutable arguments?"
   ]
  },
  {
   "cell_type": "code",
   "execution_count": 5,
   "id": "035a7e7e",
   "metadata": {},
   "outputs": [
    {
     "name": "stdout",
     "output_type": "stream",
     "text": [
      "Immutable before modification: 5\n",
      "Immutable after modification: 6\n",
      "Original immutable after function call: 5\n",
      "Mutable before modification: [1, 2, 3]\n",
      "Mutable after modification: [1, 2, 3, 4]\n",
      "Original mutable after function call: [1, 2, 3, 4]\n"
     ]
    }
   ],
   "source": [
    "def demonstrate_mutable_immutable():\n",
    "    def modify_immutable(x):\n",
    "        print(f'Immutable before modification: {x}')\n",
    "        x = x + 1\n",
    "        print(f'Immutable after modification: {x}')\n",
    "    \n",
    "    def modify_mutable(lst):\n",
    "        print(f'Mutable before modification: {lst}')\n",
    "        lst.append(4)\n",
    "        print(f'Mutable after modification: {lst}')\n",
    "    \n",
    "    # Immutable example\n",
    "    num = 5\n",
    "    modify_immutable(num)\n",
    "    print(f'Original immutable after function call: {num}')\n",
    "    \n",
    "    # Mutable example\n",
    "    my_list = [1, 2, 3]\n",
    "    modify_mutable(my_list)\n",
    "    print(f'Original mutable after function call: {my_list}')\n",
    "\n",
    "demonstrate_mutable_immutable()\n"
   ]
  },
  {
   "cell_type": "markdown",
   "id": "bddfd8bf",
   "metadata": {},
   "source": [
    "### 8.Write a program to demonstrate the use of logical operators?"
   ]
  },
  {
   "cell_type": "code",
   "execution_count": 3,
   "id": "38dc013c",
   "metadata": {},
   "outputs": [
    {
     "name": "stdout",
     "output_type": "stream",
     "text": [
      "True\n",
      "False\n"
     ]
    }
   ],
   "source": [
    "#And >> when both the conditions are true then it returns true.\n",
    "a=3\n",
    "print(a==3 and a<5) \n",
    "b=5\n",
    "print(b!=5 and b>2)"
   ]
  },
  {
   "cell_type": "code",
   "execution_count": 4,
   "id": "9796996d",
   "metadata": {},
   "outputs": [
    {
     "name": "stdout",
     "output_type": "stream",
     "text": [
      "True\n"
     ]
    }
   ],
   "source": [
    "#Or >> returns true if any of the condition is true\n",
    "a=4\n",
    "print(a>=4 or a<0)"
   ]
  },
  {
   "cell_type": "code",
   "execution_count": 5,
   "id": "5c23aa8f",
   "metadata": {},
   "outputs": [
    {
     "name": "stdout",
     "output_type": "stream",
     "text": [
      "True\n",
      "False\n"
     ]
    }
   ],
   "source": [
    "#Not >> returns false when not used for a true statement and returns true when not used to a false statement.\n",
    "# we use Not to reverse a result\n",
    "a=2\n",
    "print(not(a!=2)) #returns true because not used to a false statement \n",
    "print(not(a==2)) #returns false because not used to a true statement"
   ]
  },
  {
   "cell_type": "markdown",
   "id": "a0477281",
   "metadata": {},
   "source": [
    "### 9.Write a Python program to convert user input from string to integer, float, and boolean types?"
   ]
  },
  {
   "cell_type": "code",
   "execution_count": 18,
   "id": "35627bd2",
   "metadata": {},
   "outputs": [
    {
     "name": "stdout",
     "output_type": "stream",
     "text": [
      "Enter a value:34\n",
      "Converting into integer: 34\n",
      "Coverting into float: 34.0\n",
      "Converting into boolean: True\n"
     ]
    }
   ],
   "source": [
    "string=input(\"Enter a value:\")\n",
    "#convert to interger\n",
    "print(\"Converting into integer:\",int(string))\n",
    "\n",
    "#convert to float\n",
    "print(\"Coverting into float:\",float(string))\n",
    "\n",
    "#convert to boolean\n",
    "print(\"Converting into boolean:\",bool(string))"
   ]
  },
  {
   "cell_type": "markdown",
   "id": "1ab1e6fb",
   "metadata": {},
   "source": [
    "### 10.Write code to demonstrate type casting with list elements?"
   ]
  },
  {
   "cell_type": "code",
   "execution_count": 5,
   "id": "a6177cf9",
   "metadata": {},
   "outputs": [
    {
     "name": "stdout",
     "output_type": "stream",
     "text": [
      "chandana <class 'str'>\n",
      "39 <class 'int'>\n",
      "True <class 'bool'>\n",
      "4.91 <class 'float'>\n",
      "(2+1j) <class 'complex'>\n"
     ]
    }
   ],
   "source": [
    "a_list=[\"chandana\",39,True,4.91,2+1j]\n",
    "for i in a_list:\n",
    "    print(i,type(i))"
   ]
  },
  {
   "cell_type": "markdown",
   "id": "0476c4ae",
   "metadata": {},
   "source": [
    "### 11.Write a program that checks if a number is positive, negative, or zero?"
   ]
  },
  {
   "cell_type": "code",
   "execution_count": 3,
   "id": "e7c35c25",
   "metadata": {},
   "outputs": [
    {
     "name": "stdout",
     "output_type": "stream",
     "text": [
      "Enter a number:2\n",
      "2 is positive number\n"
     ]
    }
   ],
   "source": [
    "num= int(input(\"Enter a number:\"))\n",
    "if num > 0:\n",
    "    print(num,\"is positive number\")\n",
    "elif num == 0:\n",
    "    print(num, \"is zero\")\n",
    "else:\n",
    "    print(num,\"is negative number\")"
   ]
  },
  {
   "cell_type": "markdown",
   "id": "5e629bb8",
   "metadata": {},
   "source": [
    "### 12.Write a for loop to print numbers from 1 to 10?"
   ]
  },
  {
   "cell_type": "code",
   "execution_count": 6,
   "id": "24c3f3cf",
   "metadata": {},
   "outputs": [
    {
     "name": "stdout",
     "output_type": "stream",
     "text": [
      "1\n",
      "2\n",
      "3\n",
      "4\n",
      "5\n",
      "6\n",
      "7\n",
      "8\n",
      "9\n",
      "10\n"
     ]
    }
   ],
   "source": [
    "for i in range(1,11):\n",
    "    print(i)"
   ]
  },
  {
   "cell_type": "markdown",
   "id": "8daeffd3",
   "metadata": {},
   "source": [
    "### 13.Write a Python program to find the sum of all even numbers between 1 and 50?"
   ]
  },
  {
   "cell_type": "code",
   "execution_count": 18,
   "id": "80c60438",
   "metadata": {},
   "outputs": [
    {
     "name": "stdout",
     "output_type": "stream",
     "text": [
      "The sum of all even numbers between 1 and 50 is: 650\n"
     ]
    }
   ],
   "source": [
    "# Function to find the sum of all even numbers between 1 and 500\n",
    "def sum_of_even_numbers():\n",
    "    even_num= 0\n",
    "    for i in range(1, 51):\n",
    "        if i % 2 == 0:\n",
    "            even_num += i\n",
    "    return even_num\n",
    "print(\"The sum of all even numbers between 1 and 50 is:\", sum_of_even_numbers())\n"
   ]
  },
  {
   "cell_type": "markdown",
   "id": "e032a43d",
   "metadata": {},
   "source": [
    "### 14.Write a program to reverse a string using a while loop?"
   ]
  },
  {
   "cell_type": "code",
   "execution_count": 11,
   "id": "3a2b2c83",
   "metadata": {},
   "outputs": [
    {
     "name": "stdout",
     "output_type": "stream",
     "text": [
      "ahddiS anadnahC\n"
     ]
    }
   ],
   "source": [
    "a = \"Chandana Siddha\"\n",
    "\n",
    "a_reversed = ''\n",
    "index = len(a) - 1\n",
    "\n",
    "while index >= 0:\n",
    "    a_reversed = a_reversed + a[index]\n",
    "    index = index - 1\n",
    "print(a_reversed)\n"
   ]
  },
  {
   "cell_type": "markdown",
   "id": "fbc1b588",
   "metadata": {},
   "source": [
    "### 15.Write a Python program to calculate the factorial of a number provided by the user using a while loop?"
   ]
  },
  {
   "cell_type": "code",
   "execution_count": 17,
   "id": "09e80ea1",
   "metadata": {},
   "outputs": [
    {
     "name": "stdout",
     "output_type": "stream",
     "text": [
      "enter a number: 4\n",
      "factorial of  4  is  24\n"
     ]
    }
   ],
   "source": [
    "# in mathematical way we write factorial as ! after the number. Eg: 3! is 3*2*1=6 \n",
    "num = int(input(\"enter a number: \"))\n",
    "\n",
    "factorial= 1\n",
    "i = 1\n",
    "\n",
    "while i <= num:\n",
    "    factorial= factorial * i\n",
    "    i = i + 1\n",
    "\n",
    "print(\"factorial of \", num, \" is \", factorial)\n"
   ]
  },
  {
   "cell_type": "code",
   "execution_count": null,
   "id": "b7686169",
   "metadata": {},
   "outputs": [],
   "source": []
  }
 ],
 "metadata": {
  "kernelspec": {
   "display_name": "Python 3 (ipykernel)",
   "language": "python",
   "name": "python3"
  },
  "language_info": {
   "codemirror_mode": {
    "name": "ipython",
    "version": 3
   },
   "file_extension": ".py",
   "mimetype": "text/x-python",
   "name": "python",
   "nbconvert_exporter": "python",
   "pygments_lexer": "ipython3",
   "version": "3.11.4"
  }
 },
 "nbformat": 4,
 "nbformat_minor": 5
}
